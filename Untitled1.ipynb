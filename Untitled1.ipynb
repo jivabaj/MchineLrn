{
  "nbformat": 4,
  "nbformat_minor": 0,
  "metadata": {
    "colab": {
      "name": "Untitled1.ipynb",
      "provenance": [],
      "authorship_tag": "ABX9TyPvbw3Lu508AHUwTA5jd3kw",
      "include_colab_link": true
    },
    "kernelspec": {
      "name": "python3",
      "display_name": "Python 3"
    },
    "language_info": {
      "name": "python"
    }
  },
  "cells": [
    {
      "cell_type": "markdown",
      "metadata": {
        "id": "view-in-github",
        "colab_type": "text"
      },
      "source": [
        "<a href=\"https://colab.research.google.com/github/kkknewbie9/MchineLrn/blob/main/Untitled1.ipynb\" target=\"_parent\"><img src=\"https://colab.research.google.com/assets/colab-badge.svg\" alt=\"Open In Colab\"/></a>"
      ]
    },
    {
      "cell_type": "code",
      "metadata": {
        "id": "WupoAkaL6efl"
      },
      "source": [
        "import numpy as np\n",
        "import pandas as pd\n",
        "import matplotlib.pyplot as plt"
      ],
      "execution_count": 1,
      "outputs": []
    },
    {
      "cell_type": "code",
      "metadata": {
        "id": "4_sb2_IS60cN"
      },
      "source": [
        "dataset = pd.read_csv('/content/Mall_Customers.csv')\n",
        "\n",
        "x = dataset.iloc[:, [3,4]].values"
      ],
      "execution_count": 2,
      "outputs": []
    },
    {
      "cell_type": "code",
      "metadata": {
        "colab": {
          "base_uri": "https://localhost:8080/",
          "height": 295
        },
        "id": "tW_5qIax61Ns",
        "outputId": "784bfeae-0ae4-4802-f20a-58d09be72b74"
      },
      "source": [
        "#no need of for loop here. Using hierachical clustering we try to identify optimal number of clusters\n",
        "\n",
        "import scipy.cluster.hierarchy as sch\n",
        "\n",
        "dendogram = sch.dendrogram(sch.linkage(x, method = 'ward'))\n",
        "\n",
        "plt.title('Dendogram')\n",
        "plt.xlabel('Clusters')\n",
        "plt.ylabel('Euclidean Distance')\n",
        "\n",
        "plt.show()"
      ],
      "execution_count": 4,
      "outputs": [
        {
          "output_type": "display_data",
          "data": {
            "image/png": "[encoded data removed]",
            "text/plain": [
              "<Figure size 432x288 with 1 Axes>"
            ]
          },
          "metadata": {
            "tags": [],
            "needs_background": "light"
          }
        }
      ]
    },
    {
      "cell_type": "code",
      "metadata": {
        "id": "TKeYDWHA61QO"
      },
      "source": [
        "# TRain the cluster\n",
        "\n",
        "from sklearn.cluster import AgglomerativeClustering\n",
        "\n",
        "hc = AgglomerativeClustering(n_clusters = 5, affinity = 'euclidean', linkage = 'ward')\n",
        "\n",
        "y_hc = hc.fit_predict(x)"
      ],
      "execution_count": 5,
      "outputs": []
    },
    {
      "cell_type": "code",
      "metadata": {
        "colab": {
          "base_uri": "https://localhost:8080/"
        },
        "id": "5Pic61kw61S8",
        "outputId": "d802f849-1f0e-4261-c25c-1fe8fedf9cbd"
      },
      "source": [
        "y_hc"
      ],
      "execution_count": 6,
      "outputs": [
        {
          "output_type": "execute_result",
          "data": {
            "text/plain": [
              "array([4, 3, 4, 3, 4, 3, 4, 3, 4, 3, 4, 3, 4, 3, 4, 3, 4, 3, 4, 3, 4, 3,\n",
              "       4, 3, 4, 3, 4, 3, 4, 3, 4, 3, 4, 3, 4, 3, 4, 3, 4, 3, 4, 3, 4, 1,\n",
              "       4, 1, 1, 1, 1, 1, 1, 1, 1, 1, 1, 1, 1, 1, 1, 1, 1, 1, 1, 1, 1, 1,\n",
              "       1, 1, 1, 1, 1, 1, 1, 1, 1, 1, 1, 1, 1, 1, 1, 1, 1, 1, 1, 1, 1, 1,\n",
              "       1, 1, 1, 1, 1, 1, 1, 1, 1, 1, 1, 1, 1, 1, 1, 1, 1, 1, 1, 1, 1, 1,\n",
              "       1, 1, 1, 1, 1, 1, 1, 1, 1, 1, 1, 1, 1, 2, 1, 2, 1, 2, 0, 2, 0, 2,\n",
              "       1, 2, 0, 2, 0, 2, 0, 2, 0, 2, 1, 2, 0, 2, 1, 2, 0, 2, 0, 2, 0, 2,\n",
              "       0, 2, 0, 2, 0, 2, 1, 2, 0, 2, 0, 2, 0, 2, 0, 2, 0, 2, 0, 2, 0, 2,\n",
              "       0, 2, 0, 2, 0, 2, 0, 2, 0, 2, 0, 2, 0, 2, 0, 2, 0, 2, 0, 2, 0, 2,\n",
              "       0, 2])"
            ]
          },
          "metadata": {
            "tags": []
          },
          "execution_count": 6
        }
      ]
    },
    {
      "cell_type": "code",
      "metadata": {
        "colab": {
          "base_uri": "https://localhost:8080/",
          "height": 295
        },
        "id": "DbbH5DdI8r-N",
        "outputId": "0feaf6b8-457a-469a-d7d2-ceb7fff7b6a8"
      },
      "source": [
        "# VIsulaize\n",
        "\n",
        "plt.scatter(x[y_hc == 0,0], x[y_hc == 0,1], s = 10, c = 'red', label = 'Cluster 1')\n",
        "\n",
        "plt.scatter(x[y_hc == 1,0], x[y_hc == 1,1], s = 10, c = 'Orange', label = 'Cluster 2')\n",
        "\n",
        "plt.scatter(x[y_hc == 2,0], x[y_hc == 2,1], s = 10, c = 'Yellow', label = 'Cluster 3')\n",
        "\n",
        "plt.scatter(x[y_hc == 3,0], x[y_hc == 3,1], s = 10, c = 'green', label = 'Cluster 4')\n",
        "\n",
        "plt.scatter(x[y_hc == 4,0], x[y_hc == 4,1], s = 10, c = 'blue', label = 'Cluster 5')\n",
        "\n",
        "#plt.scatter(hc.cluster_centers_[:, 0], hc.cluster_centers_[:, 1], c= 'black', label = 'Centroid')  doesnt have cluster centers\n",
        "\n",
        "plt.title('Hierarchical clustering')\n",
        "plt.xlabel('annual income')\n",
        "plt.ylabel('Spending score')\n",
        "\n",
        "plt.legend()\n",
        "plt.show()"
      ],
      "execution_count": 7,
      "outputs": [
        {
          "output_type": "display_data",
          "data": {
            "image/png": "[encoded data removed]",
            "text/plain": [
              "<Figure size 432x288 with 1 Axes>"
            ]
          },
          "metadata": {
            "tags": [],
            "needs_background": "light"
          }
        }
      ]
    },
    {
      "cell_type": "code",
      "metadata": {
        "id": "hrenXA7P9g2f"
      },
      "source": [
        ""
      ],
      "execution_count": null,
      "outputs": []
    }
  ]
}