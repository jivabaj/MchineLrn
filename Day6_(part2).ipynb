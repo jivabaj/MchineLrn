{
  "nbformat": 4,
  "nbformat_minor": 0,
  "metadata": {
    "colab": {
      "name": "Day6_(part2).ipynb",
      "provenance": [],
      "authorship_tag": "ABX9TyPwZvJ1Y5SlGpfjtJbpwASS",
      "include_colab_link": true
    },
    "kernelspec": {
      "name": "python3",
      "display_name": "Python 3"
    },
    "language_info": {
      "name": "python"
    }
  },
  "cells": [
    {
      "cell_type": "markdown",
      "metadata": {
        "id": "view-in-github",
        "colab_type": "text"
      },
      "source": [
        "<a href=\"https://colab.research.google.com/github/kkknewbie9/MchineLrn/blob/main/Day6_(part2).ipynb\" target=\"_parent\"><img src=\"https://colab.research.google.com/assets/colab-badge.svg\" alt=\"Open In Colab\"/></a>"
      ]
    },
    {
      "cell_type": "code",
      "metadata": {
        "id": "JHZaEZCtR_NB"
      },
      "source": [
        "import numpy as np\n",
        "import pandas as pd\n",
        "import matplotlib.pyplot as plt\n"
      ],
      "execution_count": 1,
      "outputs": []
    },
    {
      "cell_type": "code",
      "metadata": {
        "id": "fcYFOytTSKMr"
      },
      "source": [
        "dataset = pd.read_csv('/content/Position_Salaries.csv')\n",
        "\n",
        "x = dataset.iloc[:, 1:-1].values # because we dont need the col[0]\n",
        "y = dataset.iloc[:, -1].values"
      ],
      "execution_count": 3,
      "outputs": []
    },
    {
      "cell_type": "code",
      "metadata": {
        "colab": {
          "base_uri": "https://localhost:8080/"
        },
        "id": "2JAMVlzKSKPo",
        "outputId": "a6e981a1-b2c6-4fc9-d74a-edf86b5dff5d"
      },
      "source": [
        "# Each value is unique so we use whole dataset as training data\n",
        "\n",
        "#Import Simple Linear Regression Model (because only 1 independent variable)\n",
        "\n",
        "from sklearn.linear_model import LinearRegression\n",
        "\n",
        "linreg1 = LinearRegression()\n",
        "linreg1.fit(x,y)"
      ],
      "execution_count": 5,
      "outputs": [
        {
          "output_type": "execute_result",
          "data": {
            "text/plain": [
              "LinearRegression(copy_X=True, fit_intercept=True, n_jobs=None, normalize=False)"
            ]
          },
          "metadata": {
            "tags": []
          },
          "execution_count": 5
        }
      ]
    },
    {
      "cell_type": "code",
      "metadata": {
        "colab": {
          "base_uri": "https://localhost:8080/"
        },
        "id": "aZZNeKiYSKTU",
        "outputId": "cb4ab353-e2dc-4809-b74e-9ada986f26b9"
      },
      "source": [
        "# Use linear regression data and implement polynomial representation\n",
        "\n",
        "from sklearn.preprocessing import PolynomialFeatures\n",
        "\n",
        "polyreg = PolynomialFeatures(degree = 5)\n",
        "x_poly = polyreg.fit_transform(x)\n",
        "\n",
        "linreg2 = LinearRegression()\n",
        "linreg2.fit(x_poly, y)"
      ],
      "execution_count": 18,
      "outputs": [
        {
          "output_type": "execute_result",
          "data": {
            "text/plain": [
              "LinearRegression(copy_X=True, fit_intercept=True, n_jobs=None, normalize=False)"
            ]
          },
          "metadata": {
            "tags": []
          },
          "execution_count": 18
        }
      ]
    },
    {
      "cell_type": "code",
      "metadata": {
        "colab": {
          "base_uri": "https://localhost:8080/",
          "height": 295
        },
        "id": "HPmAufMhX4RW",
        "outputId": "62242d63-195f-434a-99fa-3967f781e865"
      },
      "source": [
        "# Visualization of the linear regression\n",
        "\n",
        "plt.scatter(x, y, color = 'blue')\n",
        "plt.plot(x, linreg1.predict(x), color = 'black')\n",
        "plt.title('Finding salaries')\n",
        "plt.xlabel('Positions')\n",
        "plt.ylabel('Salaries')\n",
        "\n",
        "plt.show()"
      ],
      "execution_count": 9,
      "outputs": [
        {
          "output_type": "display_data",
          "data": {
            "image/png": "[encoded data removed]",
            "text/plain": [
              "<Figure size 432x288 with 1 Axes>"
            ]
          },
          "metadata": {
            "tags": [],
            "needs_background": "light"
          }
        }
      ]
    },
    {
      "cell_type": "code",
      "metadata": {
        "colab": {
          "base_uri": "https://localhost:8080/",
          "height": 295
        },
        "id": "yX74F0kjcp2g",
        "outputId": "ac2260e7-fbd6-49c6-f295-bc860fe01cc9"
      },
      "source": [
        "# for polynomial deg = 2\n",
        "\n",
        "plt.scatter(x, y, color = 'blue')\n",
        "plt.plot(x, linreg2.predict(polyreg.fit_transform(x)), color = 'black')\n",
        "plt.title('Finding salaries using polynomial regression')\n",
        "plt.xlabel('Positions')\n",
        "plt.ylabel('Salaries')\n",
        "\n",
        "plt.show()"
      ],
      "execution_count": 17,
      "outputs": [
        {
          "output_type": "display_data",
          "data": {
            "image/png": "[encoded data removed]",
            "text/plain": [
              "<Figure size 432x288 with 1 Axes>"
            ]
          },
          "metadata": {
            "tags": [],
            "needs_background": "light"
          }
        }
      ]
    },
    {
      "cell_type": "code",
      "metadata": {
        "colab": {
          "base_uri": "https://localhost:8080/",
          "height": 295
        },
        "id": "OMpd0gSKX8kK",
        "outputId": "39c45b61-331a-4868-eff7-5943555edfd2"
      },
      "source": [
        "# Visualization using polynomial regression for deg = 5\n",
        "\n",
        "plt.scatter(x, y, color = 'blue')\n",
        "plt.plot(x, linreg2.predict(polyreg.fit_transform(x)), color = 'black')\n",
        "plt.title('Finding salaries using polynomial regression')\n",
        "plt.xlabel('Positions')\n",
        "plt.ylabel('Salaries')\n",
        "\n",
        "plt.show()"
      ],
      "execution_count": 12,
      "outputs": [
        {
          "output_type": "display_data",
          "data": {
            "image/png": "[encoded data removed]",
            "text/plain": [
              "<Figure size 432x288 with 1 Axes>"
            ]
          },
          "metadata": {
            "tags": [],
            "needs_background": "light"
          }
        }
      ]
    },
    {
      "cell_type": "code",
      "metadata": {
        "colab": {
          "base_uri": "https://localhost:8080/"
        },
        "id": "QHc2_Rp_X8nv",
        "outputId": "ee17d47e-b2e8-4cfa-a160-c28b8583f2fe"
      },
      "source": [
        "linreg1.predict([[7.5]]) # predicting salary for 7.5 yrs using linear regression, not accurate"
      ],
      "execution_count": 13,
      "outputs": [
        {
          "output_type": "execute_result",
          "data": {
            "text/plain": [
              "array([411257.57575758])"
            ]
          },
          "metadata": {
            "tags": []
          },
          "execution_count": 13
        }
      ]
    },
    {
      "cell_type": "code",
      "metadata": {
        "colab": {
          "base_uri": "https://localhost:8080/"
        },
        "id": "nEswEV9mZKXb",
        "outputId": "b1002b62-b7a6-429f-9ffa-6ce63930923b"
      },
      "source": [
        "poly_pred = linreg2.predict(polyreg.fit_transform([[7.5]])) #predicting using polynomial regression and getting accurate value according to the dataset\n",
        "print (poly_pred)\n"
      ],
      "execution_count": 15,
      "outputs": [
        {
          "output_type": "stream",
          "text": [
            "[237446.00451605]\n"
          ],
          "name": "stdout"
        }
      ]
    },
    {
      "cell_type": "code",
      "metadata": {
        "id": "9laEe41JZKbB"
      },
      "source": [
        ""
      ],
      "execution_count": null,
      "outputs": []
    },
    {
      "cell_type": "code",
      "metadata": {
        "id": "iRlncLWCZKpI"
      },
      "source": [
        ""
      ],
      "execution_count": null,
      "outputs": []
    }
  ]
}