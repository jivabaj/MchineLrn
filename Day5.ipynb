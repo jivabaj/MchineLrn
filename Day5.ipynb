{
  "nbformat": 4,
  "nbformat_minor": 0,
  "metadata": {
    "colab": {
      "name": "Day5.ipynb",
      "provenance": [],
      "authorship_tag": "ABX9TyNmbDkSKbOMoxnqvlHlP1EE",
      "include_colab_link": true
    },
    "kernelspec": {
      "name": "python3",
      "display_name": "Python 3"
    },
    "language_info": {
      "name": "python"
    }
  },
  "cells": [
    {
      "cell_type": "markdown",
      "metadata": {
        "id": "view-in-github",
        "colab_type": "text"
      },
      "source": [
        "<a href=\"https://colab.research.google.com/github/kkknewbie9/MchineLrn/blob/main/Day5.ipynb\" target=\"_parent\"><img src=\"https://colab.research.google.com/assets/colab-badge.svg\" alt=\"Open In Colab\"/></a>"
      ]
    },
    {
      "cell_type": "code",
      "metadata": {
        "id": "eKmafHryQDJt"
      },
      "source": [
        "import numpy as np\n",
        "import matplotlib.pyplot as plt\n",
        "import pandas as pd"
      ],
      "execution_count": 2,
      "outputs": []
    },
    {
      "cell_type": "code",
      "metadata": {
        "id": "ogXMMx38UHoE"
      },
      "source": [
        "dataset = pd.read_csv('/content/Salary_Data.csv')\n",
        "\n",
        "# We have only 1 dependent and independent variable in the linear regression\n",
        "\n",
        "x = dataset.iloc[:, :-1].values  #not the last variable in the dataset (column name)\n",
        "y = dataset.iloc[:, -1].values  #last variable in the dataset"
      ],
      "execution_count": 4,
      "outputs": []
    },
    {
      "cell_type": "code",
      "metadata": {
        "id": "p23vvSWCT7KP"
      },
      "source": [
        "#split the dataset into test and train data\n",
        "\n",
        "from sklearn.model_selection import train_test_split\n",
        "\n",
        "x_train, x_test, y_train, y_test =  train_test_split(x, y, test_size = 1/3)"
      ],
      "execution_count": 5,
      "outputs": []
    },
    {
      "cell_type": "code",
      "metadata": {
        "colab": {
          "base_uri": "https://localhost:8080/"
        },
        "id": "wuue2EfuT7Nk",
        "outputId": "1a733e29-c3d6-463b-93ae-b75d1ffd6741"
      },
      "source": [
        "print(x_test)\n",
        "print(x_train)\n",
        "print(y_test)\n",
        "print(y_train)"
      ],
      "execution_count": 6,
      "outputs": [
        {
          "output_type": "stream",
          "text": [
            "[[3. ]\n",
            " [9.5]\n",
            " [4.9]\n",
            " [9. ]\n",
            " [6.8]\n",
            " [5.1]\n",
            " [2.9]\n",
            " [5.9]\n",
            " [4.5]\n",
            " [4. ]]\n",
            "[[ 2. ]\n",
            " [ 2.2]\n",
            " [10.3]\n",
            " [ 3.2]\n",
            " [ 1.5]\n",
            " [10.5]\n",
            " [ 4.1]\n",
            " [ 3.7]\n",
            " [ 6. ]\n",
            " [ 7.1]\n",
            " [ 8.2]\n",
            " [ 9.6]\n",
            " [ 1.3]\n",
            " [ 3.9]\n",
            " [ 4. ]\n",
            " [ 1.1]\n",
            " [ 8.7]\n",
            " [ 5.3]\n",
            " [ 7.9]\n",
            " [ 3.2]]\n",
            "[ 60150 116969  67938 105582  91738  66029  56642  81363  61111  56957]\n",
            "[ 43525  39891 122391  64445  37731 121872  57081  57189  93940  98273\n",
            " 113812 112635  46205  63218  55794  39343 109431  83088 101302  54445]\n"
          ],
          "name": "stdout"
        }
      ]
    },
    {
      "cell_type": "code",
      "metadata": {
        "colab": {
          "base_uri": "https://localhost:8080/"
        },
        "id": "6QM9wAnoT7mB",
        "outputId": "66cb3f1a-b269-4786-d05f-e70c3ff9edf7"
      },
      "source": [
        "#training the simple linear regression model\n",
        "\n",
        "from sklearn.linear_model import LinearRegression\n",
        "\n",
        "slr = LinearRegression()\n",
        "slr.fit(x_train, y_train)  # passing the training variables "
      ],
      "execution_count": 7,
      "outputs": [
        {
          "output_type": "execute_result",
          "data": {
            "text/plain": [
              "LinearRegression(copy_X=True, fit_intercept=True, n_jobs=None, normalize=False)"
            ]
          },
          "metadata": {
            "tags": []
          },
          "execution_count": 7
        }
      ]
    },
    {
      "cell_type": "code",
      "metadata": {
        "id": "isub7dTGT7pg"
      },
      "source": [
        "# predicting the test set results\n",
        "\n",
        "y_pred = slr.predict(x_test)"
      ],
      "execution_count": 11,
      "outputs": []
    },
    {
      "cell_type": "code",
      "metadata": {
        "colab": {
          "base_uri": "https://localhost:8080/"
        },
        "id": "11sY59wnV-bl",
        "outputId": "435966d6-2b46-49a2-d7df-1a7d883455a8"
      },
      "source": [
        "y_pred"
      ],
      "execution_count": 12,
      "outputs": [
        {
          "output_type": "execute_result",
          "data": {
            "text/plain": [
              "array([ 54876.87034306, 116919.75516959,  73012.48283082, 112147.22556755,\n",
              "        91148.09531857,  74921.49467163,  53922.36442265,  82557.5420349 ,\n",
              "        69194.45914918,  64421.92954714])"
            ]
          },
          "metadata": {
            "tags": []
          },
          "execution_count": 12
        }
      ]
    },
    {
      "cell_type": "code",
      "metadata": {
        "id": "Dty7u7VOV-fZ"
      },
      "source": [
        "# compare the before and after prediction results"
      ],
      "execution_count": null,
      "outputs": []
    },
    {
      "cell_type": "code",
      "metadata": {
        "colab": {
          "base_uri": "https://localhost:8080/"
        },
        "id": "GSSjT_pAV-jY",
        "outputId": "5a6036a6-e7b9-443f-f849-92a5ca54db8e"
      },
      "source": [
        "# check the experience\n",
        "\n",
        "x_test"
      ],
      "execution_count": 10,
      "outputs": [
        {
          "output_type": "execute_result",
          "data": {
            "text/plain": [
              "array([[3. ],\n",
              "       [9.5],\n",
              "       [4.9],\n",
              "       [9. ],\n",
              "       [6.8],\n",
              "       [5.1],\n",
              "       [2.9],\n",
              "       [5.9],\n",
              "       [4.5],\n",
              "       [4. ]])"
            ]
          },
          "metadata": {
            "tags": []
          },
          "execution_count": 10
        }
      ]
    },
    {
      "cell_type": "code",
      "metadata": {
        "colab": {
          "base_uri": "https://localhost:8080/",
          "height": 295
        },
        "id": "QGQNXRs5WgxF",
        "outputId": "81f22bdc-f050-4572-d799-ae82eb2f0623"
      },
      "source": [
        "# Visulaize the training set data\n",
        "\n",
        "plt.scatter(x_train, y_train, color = \"blue\")\n",
        "plt.plot(x_train, slr.predict(x_train), color = 'green')\n",
        "plt.title('Simple Linear Regression Model')\n",
        "plt.xlabel('Experience')\n",
        "plt.ylabel('Salary')\n",
        "\n",
        "plt.show()"
      ],
      "execution_count": 13,
      "outputs": [
        {
          "output_type": "display_data",
          "data": {
            "image/png": "[encoded data removed]",
            "text/plain": [
              "<Figure size 432x288 with 1 Axes>"
            ]
          },
          "metadata": {
            "tags": [],
            "needs_background": "light"
          }
        }
      ]
    },
    {
      "cell_type": "code",
      "metadata": {
        "colab": {
          "base_uri": "https://localhost:8080/",
          "height": 295
        },
        "id": "3xa4uRSLWg0n",
        "outputId": "8916f5cf-bb3d-4cf6-86c9-c35f0fd13e87"
      },
      "source": [
        "#Visualizing with the test dataset\n",
        "#plot will be based on train data only. Only 1st line changes\n",
        "\n",
        "plt.scatter(x_test, y_test, color = \"blue\")\n",
        "plt.plot(x_train, slr.predict(x_train), color = 'green')\n",
        "plt.title('Simple Linear Regression Model')\n",
        "plt.xlabel('Experience')\n",
        "plt.ylabel('Salary')\n",
        "\n",
        "plt.show()"
      ],
      "execution_count": 14,
      "outputs": [
        {
          "output_type": "display_data",
          "data": {
            "image/png": "[encoded data removed]",
            "text/plain": [
              "<Figure size 432x288 with 1 Axes>"
            ]
          },
          "metadata": {
            "tags": [],
            "needs_background": "light"
          }
        }
      ]
    }
  ]
}