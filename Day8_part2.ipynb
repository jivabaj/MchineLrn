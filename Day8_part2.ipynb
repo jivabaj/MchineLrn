{
  "nbformat": 4,
  "nbformat_minor": 0,
  "metadata": {
    "colab": {
      "name": "Day8_part2.ipynb",
      "provenance": [],
      "authorship_tag": "ABX9TyMAaMEv654XT5Fn0H8ZBIOs",
      "include_colab_link": true
    },
    "kernelspec": {
      "name": "python3",
      "display_name": "Python 3"
    },
    "language_info": {
      "name": "python"
    }
  },
  "cells": [
    {
      "cell_type": "markdown",
      "metadata": {
        "id": "view-in-github",
        "colab_type": "text"
      },
      "source": [
        "<a href=\"https://colab.research.google.com/github/kkknewbie9/MchineLrn/blob/main/Day8_part2.ipynb\" target=\"_parent\"><img src=\"https://colab.research.google.com/assets/colab-badge.svg\" alt=\"Open In Colab\"/></a>"
      ]
    },
    {
      "cell_type": "code",
      "metadata": {
        "id": "QvFGSXE90x__"
      },
      "source": [
        "import numpy as np\n",
        "import pandas as pd\n",
        "import matplotlib.pyplot as plt"
      ],
      "execution_count": 1,
      "outputs": []
    },
    {
      "cell_type": "code",
      "metadata": {
        "id": "qoFDGaV41C94"
      },
      "source": [
        "dataset = pd.read_csv('/content/Position_Salaries.csv')\n",
        "\n",
        "x = dataset.iloc[:, 1:-1].values\n",
        "y = dataset.iloc[:, -1].values"
      ],
      "execution_count": 3,
      "outputs": []
    },
    {
      "cell_type": "code",
      "metadata": {
        "colab": {
          "base_uri": "https://localhost:8080/"
        },
        "id": "0QZ1BRS21Dcs",
        "outputId": "a423f830-9b9e-483e-b216-900b273799a3"
      },
      "source": [
        "#Training the decision tree regression on complete dataset. No need for train test split in this dataset\n",
        "\n",
        "from sklearn.tree import DecisionTreeRegressor\n",
        "\n",
        "reg1 = DecisionTreeRegressor()\n",
        "reg1.fit(x, y)\n"
      ],
      "execution_count": 6,
      "outputs": [
        {
          "output_type": "execute_result",
          "data": {
            "text/plain": [
              "DecisionTreeRegressor(ccp_alpha=0.0, criterion='mse', max_depth=None,\n",
              "                      max_features=None, max_leaf_nodes=None,\n",
              "                      min_impurity_decrease=0.0, min_impurity_split=None,\n",
              "                      min_samples_leaf=1, min_samples_split=2,\n",
              "                      min_weight_fraction_leaf=0.0, presort='deprecated',\n",
              "                      random_state=None, splitter='best')"
            ]
          },
          "metadata": {
            "tags": []
          },
          "execution_count": 6
        }
      ]
    },
    {
      "cell_type": "code",
      "metadata": {
        "colab": {
          "base_uri": "https://localhost:8080/"
        },
        "id": "-aqDUzvx1Df_",
        "outputId": "97f843a2-7aad-4105-d2ae-b212afef9445"
      },
      "source": [
        "reg1.predict([[6.5]])"
      ],
      "execution_count": 7,
      "outputs": [
        {
          "output_type": "execute_result",
          "data": {
            "text/plain": [
              "array([150000.])"
            ]
          },
          "metadata": {
            "tags": []
          },
          "execution_count": 7
        }
      ]
    },
    {
      "cell_type": "code",
      "metadata": {
        "colab": {
          "base_uri": "https://localhost:8080/",
          "height": 295
        },
        "id": "bxXCeGzS2HWP",
        "outputId": "13c715d4-13b7-4556-f5cb-a414636cf8c2"
      },
      "source": [
        "#Visualize on entire dataset\n",
        "#no ups and downs so have to take grid values andmin and max of level and salary\n",
        "\n",
        "x_grid = np.arange(min(x), max(x))\n",
        "\n",
        "x_grid = x_grid.reshape((len(x_grid), 1))\n",
        "\n",
        "plt.scatter(x,y, color = 'red')\n",
        "plt.plot(x_grid, reg1.predict(x_grid), color = 'blue')\n",
        "\n",
        "plt.title('Decision TRee Regression')\n",
        "plt.xlabel('Level')\n",
        "plt.ylabel('Salary')\n",
        "\n",
        "plt.show()"
      ],
      "execution_count": 8,
      "outputs": [
        {
          "output_type": "display_data",
          "data": {
            "image/png": "[encoded data removed]",
            "text/plain": [
              "<Figure size 432x288 with 1 Axes>"
            ]
          },
          "metadata": {
            "tags": [],
            "needs_background": "light"
          }
        }
      ]
    },
    {
      "cell_type": "code",
      "metadata": {
        "id": "hanBNncW2HZy"
      },
      "source": [
        ""
      ],
      "execution_count": null,
      "outputs": []
    }
  ]
}